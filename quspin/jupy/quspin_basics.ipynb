{
 "cells": [
  {
   "cell_type": "code",
   "execution_count": 23,
   "id": "e573603e-df5f-49e0-a87b-f8c19c043622",
   "metadata": {},
   "outputs": [],
   "source": [
    "import sys, os\n",
    "import quspin\n",
    "from quspin.basis import spin_basis_1d\n",
    "from quspin.operators import hamiltonian\n",
    "from matplotlib import pyplot as plt\n",
    "import numpy as np"
   ]
  },
  {
   "cell_type": "code",
   "execution_count": 25,
   "id": "702cd0c2-d48a-4e67-b945-8b42896e5e41",
   "metadata": {},
   "outputs": [],
   "source": [
    "plt.rcParams.update({\n",
    "    \"text.usetex\": True, # enable latex font\n",
    "    \"font.family\": \"Helvetica\", # set font style\n",
    "    \"text.latex.preamble\": r'\\usepackage{amsmath}', # add latex packages\n",
    "    \"font.size\": \"16\", # set font size\n",
    "})\n",
    "%matplotlib inline"
   ]
  },
  {
   "cell_type": "code",
   "execution_count": 26,
   "id": "344948d8-df2a-45cb-8c7c-c26c8ad6916c",
   "metadata": {},
   "outputs": [],
   "source": [
    "Jxy, Jzz = 1.0, 1.0\n",
    "# define coupling strengths\n",
    "hx, hy, hz = 1.0, 1.0, 1.0\n",
    "\n",
    "# associate each coupling to the spin labeled 0\n",
    "hx_list = [[hx,0],] # coupling: hx multiplies spin labeled 0\n",
    "hy_list = [[hy,0],] # coupling: hy multiplies spin labeled 0\n",
    "hz_list = [[hz,0],] # coupling: hz multiplies spin labeled 0\n",
    "\n",
    "# associate a Pauli matrix to each coupling list\n",
    "static_terms = [['x',hx_list], # assign coupling list hx_list to Pauli operator sigma^x\n",
    "    \t\t    ['y',hy_list], # assign coupling list hy_list to Pauli operator sigma^y\n",
    "    \t\t    ['z',hz_list], # assign coupling list hz_list to Pauli operator sigma^z\n",
    "    \t\t   ]\n",
    "dynamic_terms = []"
   ]
  },
  {
   "cell_type": "code",
   "execution_count": 27,
   "id": "aa2e2c7c-6980-4af4-9c11-a758ea694ac1",
   "metadata": {},
   "outputs": [],
   "source": [
    "# system size / number of spins\n",
    "L = 10\n",
    "basis_ising = spin_basis_1d(L=L,)\n",
    "Jzz_list = [[Jzz, j,j+1] for j in range(L-1)] # L-1 bonds\n",
    "hz_list = [[hz,j] for j in range(L)] # L sites\n",
    "hx_list = [[hx,j] for j in range(L)] # L sites"
   ]
  },
  {
   "cell_type": "code",
   "execution_count": 28,
   "id": "4e0e2bd7-2325-4cce-831b-f313582e44e4",
   "metadata": {},
   "outputs": [],
   "source": [
    "H_terms = [['zz',Jzz_list],\n",
    "\t\t   ['x',hx_list],\n",
    "\t\t   ['z',hz_list],\n",
    "\t\t  ]"
   ]
  },
  {
   "cell_type": "code",
   "execution_count": 29,
   "id": "56d985cb-8bbb-4b04-b156-9f4c447a2051",
   "metadata": {},
   "outputs": [
    {
     "name": "stdout",
     "output_type": "stream",
     "text": [
      "Hermiticity check passed!\n",
      "Symmetry checks passed!\n"
     ]
    }
   ],
   "source": [
    "H_Ising = hamiltonian(H_terms,[], basis=basis_ising)"
   ]
  },
  {
   "cell_type": "code",
   "execution_count": 30,
   "id": "8c93abc7-537f-4e52-bb1d-ebedffbca334",
   "metadata": {},
   "outputs": [
    {
     "name": "stdout",
     "output_type": "stream",
     "text": [
      "\n",
      "Ising Hamiltonian matrix:\n",
      " [[19.+0.j  1.+0.j  1.+0.j ...  0.+0.j  0.+0.j  0.+0.j]\n",
      " [ 1.+0.j 15.+0.j  0.+0.j ...  0.+0.j  0.+0.j  0.+0.j]\n",
      " [ 1.+0.j  0.+0.j 13.+0.j ...  0.+0.j  0.+0.j  0.+0.j]\n",
      " ...\n",
      " [ 0.+0.j  0.+0.j  0.+0.j ... -3.+0.j  0.+0.j  1.+0.j]\n",
      " [ 0.+0.j  0.+0.j  0.+0.j ...  0.+0.j -1.+0.j  1.+0.j]\n",
      " [ 0.+0.j  0.+0.j  0.+0.j ...  1.+0.j  1.+0.j -1.+0.j]]\n",
      "\n"
     ]
    }
   ],
   "source": [
    "print('\\nIsing Hamiltonian matrix:\\n {}\\n'.format(H_Ising.toarray()) )\n"
   ]
  },
  {
   "cell_type": "code",
   "execution_count": 31,
   "id": "90156bb7-e17f-4caf-b1b8-e0b11a81458c",
   "metadata": {},
   "outputs": [],
   "source": [
    "# compute eigenenergies and eigenstates\n",
    "E, V = H_Ising.eigh()"
   ]
  },
  {
   "cell_type": "code",
   "execution_count": 32,
   "id": "8eb71dcf-c8df-43a0-be86-7952ee39b4f0",
   "metadata": {},
   "outputs": [
    {
     "name": "stdout",
     "output_type": "stream",
     "text": [
      "\n",
      "GS energy = -13.572021834189934\n"
     ]
    }
   ],
   "source": [
    "# ground state\n",
    "psi_GS = V[:,0]\n",
    "E_GS = E[0]\n",
    "print('\\nGS energy = {}'.format(E_GS) )"
   ]
  },
  {
   "cell_type": "code",
   "execution_count": 33,
   "id": "e437c235-7ba0-47e6-bcfc-7543e8594146",
   "metadata": {},
   "outputs": [
    {
     "name": "stdout",
     "output_type": "stream",
     "text": [
      "\n",
      "first excited state energy = -12.990977106165644\n",
      "\n"
     ]
    }
   ],
   "source": [
    "# first-excited state\n",
    "psi_ex_1 = V[:,1]\n",
    "E_exc = E[1]\n",
    "print('\\nfirst excited state energy = {}\\n'.format(E_exc) )"
   ]
  },
  {
   "cell_type": "code",
   "execution_count": 35,
   "id": "b9721f15-6a99-40e7-bbd6-67ad00c5fc1d",
   "metadata": {},
   "outputs": [],
   "source": [
    "# compute histogram\n",
    "DOS, energy =  np.histogram(E, bins=50) # number of bins can be adjusted"
   ]
  },
  {
   "cell_type": "code",
   "execution_count": 36,
   "id": "4748ba26-7e7c-4c6f-8680-4d657fea18d0",
   "metadata": {},
   "outputs": [
    {
     "data": {
      "text/plain": [
       "array([ 2,  1,  3,  6,  6,  9, 15, 14, 20, 28, 29, 34, 40, 44, 44, 50, 50,\n",
       "       49, 52, 53, 51, 48, 48, 40, 40, 38, 29, 31, 23, 20, 20, 19, 10, 14,\n",
       "        8,  9,  6,  6,  2,  2,  1,  4,  3,  2,  0,  0,  0,  0,  0,  1])"
      ]
     },
     "execution_count": 36,
     "metadata": {},
     "output_type": "execute_result"
    }
   ],
   "source": [
    "DOS"
   ]
  },
  {
   "cell_type": "code",
   "execution_count": 37,
   "id": "fa99172c-fced-41c0-b46e-f2a44d8f5146",
   "metadata": {},
   "outputs": [],
   "source": [
    "import qutip"
   ]
  },
  {
   "cell_type": "code",
   "execution_count": null,
   "id": "fc746860-668d-4b02-93eb-ec3de9b80724",
   "metadata": {},
   "outputs": [],
   "source": []
  },
  {
   "cell_type": "code",
   "execution_count": null,
   "id": "4ac3ca84-a9ee-4e6f-beb9-cf323f3a7f6f",
   "metadata": {},
   "outputs": [],
   "source": []
  },
  {
   "cell_type": "code",
   "execution_count": null,
   "id": "53700e91-3b7a-41fb-87b3-c131cf0f7f75",
   "metadata": {},
   "outputs": [],
   "source": []
  },
  {
   "cell_type": "code",
   "execution_count": null,
   "id": "3d36a958-455b-40c1-a4fb-643fd880203f",
   "metadata": {},
   "outputs": [],
   "source": []
  }
 ],
 "metadata": {
  "kernelspec": {
   "display_name": "Python 3 (ipykernel)",
   "language": "python",
   "name": "python3"
  },
  "language_info": {
   "codemirror_mode": {
    "name": "ipython",
    "version": 3
   },
   "file_extension": ".py",
   "mimetype": "text/x-python",
   "name": "python",
   "nbconvert_exporter": "python",
   "pygments_lexer": "ipython3",
   "version": "3.10.16"
  }
 },
 "nbformat": 4,
 "nbformat_minor": 5
}
